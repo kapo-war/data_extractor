{
 "cells": [
  {
   "cell_type": "code",
   "execution_count": null,
   "metadata": {},
   "outputs": [],
   "source": [
    "\n"
   ]
  },
  {
   "cell_type": "code",
   "execution_count": 2,
   "metadata": {},
   "outputs": [],
   "source": [
    "import os\n",
    "import json\n",
    "from time import time\n",
    "from bitarray import bitarray"
   ]
  },
  {
   "cell_type": "code",
   "execution_count": 48,
   "metadata": {},
   "outputs": [],
   "source": []
  },
  {
   "cell_type": "code",
   "execution_count": 24,
   "metadata": {},
   "outputs": [
    {
     "name": "stdout",
     "output_type": "stream",
     "text": [
      "load_json: 0.0004379749298095703\n",
      "open_bin: 0.00039458274841308594\n",
      "read_bin: 7.224082946777344e-05\n",
      "decode_bin: 4.976996183395386\n",
      "(9817, 320)\n"
     ]
    }
   ],
   "source": [
    "arr:bytes\n",
    "t0 = time()\n",
    "with open(\"/root/code/outtest/preprocessed/state/vector/upgrade.json\", \"r\") as j:\n",
    "    dic = json.load(j)\n",
    "    arr_shape = dic[\"upgrades_array_shape\"]\n",
    "    t1 = time()\n",
    "    print(f\"load_json: {t1-t0}\")\n",
    "with open(\"/root/code/outtest/preprocessed/state/vector/upgrade.bin\", \"rb\") as f:\n",
    "    t2 = time()\n",
    "    print(f\"open_bin: {t2-t1}\")\n",
    "    arr = f.read()\n",
    "    t3 = time()\n",
    "    print(f\"read_bin: {t3-t2}\")\n",
    "    np_arr = decode_to_numpy(arr, arr_shape[0]*arr_shape[1], 1)\n",
    "    t4 = time()\n",
    "    print(f\"decode_bin: {t4-t3}\")\n",
    "np_arr = np_arr.reshape(arr_shape)\n",
    "print(np_arr.shape)"
   ]
  },
  {
   "cell_type": "code",
   "execution_count": 5,
   "metadata": {},
   "outputs": [],
   "source": [
    "root_path = \"/root/code/outtest/preprocessed/state\"\n",
    "outdict = {}"
   ]
  },
  {
   "cell_type": "code",
   "execution_count": 28,
   "metadata": {},
   "outputs": [
    {
     "name": "stdout",
     "output_type": "stream",
     "text": [
      "pathable 1.0\n",
      "buildable 1.0\n",
      "creep 1.0\n"
     ]
    },
    {
     "ename": "KeyboardInterrupt",
     "evalue": "",
     "output_type": "error",
     "traceback": [
      "\u001b[0;31m---------------------------------------------------------------------------\u001b[0m",
      "\u001b[0;31mKeyboardInterrupt\u001b[0m                         Traceback (most recent call last)",
      "Cell \u001b[0;32mIn[28], line 10\u001b[0m\n\u001b[1;32m      8\u001b[0m \u001b[38;5;28;01mwith\u001b[39;00m \u001b[38;5;28mopen\u001b[39m(os\u001b[38;5;241m.\u001b[39mpath\u001b[38;5;241m.\u001b[39mjoin(root_path, \u001b[38;5;124mf\u001b[39m\u001b[38;5;124m\"\u001b[39m\u001b[38;5;124mworld/\u001b[39m\u001b[38;5;132;01m{\u001b[39;00mfeature\u001b[38;5;132;01m}\u001b[39;00m\u001b[38;5;124m\"\u001b[39m), \u001b[38;5;124m\"\u001b[39m\u001b[38;5;124mrb\u001b[39m\u001b[38;5;124m\"\u001b[39m) \u001b[38;5;28;01mas\u001b[39;00m f:\n\u001b[1;32m      9\u001b[0m     byte_file \u001b[38;5;241m=\u001b[39m f\u001b[38;5;241m.\u001b[39mread()\n\u001b[0;32m---> 10\u001b[0m     \u001b[43mdecode_to_numpy\u001b[49m\u001b[43m(\u001b[49m\u001b[43mbyte_file\u001b[49m\u001b[43m,\u001b[49m\u001b[43m \u001b[49m\u001b[43m(\u001b[49m\u001b[38;5;241;43m128\u001b[39;49m\u001b[38;5;241;43m*\u001b[39;49m\u001b[38;5;241;43m128\u001b[39;49m\u001b[38;5;241;43m*\u001b[39;49m\u001b[38;5;241;43m2915\u001b[39;49m\u001b[43m)\u001b[49m\u001b[43m,\u001b[49m\u001b[43m \u001b[49m\u001b[43mbits_info\u001b[49m\u001b[43m[\u001b[49m\u001b[43mfeature\u001b[49m\u001b[38;5;241;43m.\u001b[39;49m\u001b[43msplit\u001b[49m\u001b[43m(\u001b[49m\u001b[38;5;124;43m\"\u001b[39;49m\u001b[38;5;124;43m.\u001b[39;49m\u001b[38;5;124;43m\"\u001b[39;49m\u001b[43m)\u001b[49m\u001b[43m[\u001b[49m\u001b[38;5;241;43m0\u001b[39;49m\u001b[43m]\u001b[49m\u001b[43m]\u001b[49m\u001b[43m)\u001b[49m\n\u001b[1;32m     11\u001b[0m     \u001b[38;5;28mprint\u001b[39m(feature\u001b[38;5;241m.\u001b[39msplit(\u001b[38;5;124m\"\u001b[39m\u001b[38;5;124m.\u001b[39m\u001b[38;5;124m\"\u001b[39m)[\u001b[38;5;241m0\u001b[39m], \u001b[38;5;28mlen\u001b[39m(byte_file)\u001b[38;5;241m*\u001b[39m\u001b[38;5;241m8\u001b[39m\u001b[38;5;241m/\u001b[39m(\u001b[38;5;241m128\u001b[39m\u001b[38;5;241m*\u001b[39m\u001b[38;5;241m128\u001b[39m\u001b[38;5;241m*\u001b[39m\u001b[38;5;241m2915\u001b[39m))\n\u001b[1;32m     12\u001b[0m     \u001b[38;5;66;03m#outdict[feature.split(\".\")[0]] = np.frombuffer(f.read()).reshape((128, 128,-1))\u001b[39;00m\n",
      "Cell \u001b[0;32mIn[23], line 26\u001b[0m, in \u001b[0;36mdecode_to_numpy\u001b[0;34m(byte_array, n_items, bits_per_elem, buffer_type)\u001b[0m\n\u001b[1;32m     24\u001b[0m \u001b[38;5;66;03m#print(read_arr)\u001b[39;00m\n\u001b[1;32m     25\u001b[0m \u001b[38;5;28;01mfor\u001b[39;00m idx \u001b[38;5;129;01min\u001b[39;00m \u001b[38;5;28mrange\u001b[39m(n_items):\n\u001b[0;32m---> 26\u001b[0m     decoded_arr[idx] \u001b[38;5;241m=\u001b[39m (read_arr[\u001b[38;5;28mint\u001b[39m(idx\u001b[38;5;241m/\u001b[39m(bits_per_buffer\u001b[38;5;241m*\u001b[39mbits_per_elem))] \u001b[38;5;241m>>\u001b[39m ((bits_per_buffer\u001b[38;5;241m-\u001b[39m\u001b[38;5;241m1\u001b[39m) \u001b[38;5;241m-\u001b[39m (idx\u001b[38;5;241m%\u001b[39mbits_per_buffer)))\u001b[38;5;241m%\u001b[39m(\u001b[38;5;241m2\u001b[39m\u001b[38;5;241m*\u001b[39m\u001b[38;5;241m*\u001b[39mbits_per_elem)\n\u001b[1;32m     29\u001b[0m \u001b[38;5;28;01mreturn\u001b[39;00m decoded_arr\n",
      "\u001b[0;31mKeyboardInterrupt\u001b[0m: "
     ]
    }
   ],
   "source": [
    "\n",
    "with open(os.path.join(root_path, f\"world/bits_info.json\"), \"r\") as j:\n",
    "    bits_info = json.load(j)\n",
    "for feature in os.listdir(os.path.join(root_path, \"world\")):\n",
    "    if (feature.split(\".\")[-1] != \"bin\"):\n",
    "        continue\n",
    "    with open(os.path.join(root_path, f\"world/{feature}\"), \"rb\") as f:\n",
    "        byte_file = f.read()\n",
    "        decode_to_numpy(byte_file, (128*128*2915), bits_info[feature.split(\".\")[0]])\n",
    "        print(feature.split(\".\")[0], len(byte_file)*8/(128*128*2915))\n",
    "        #outdict[feature.split(\".\")[0]] = np.frombuffer(f.read()).reshape((128, 128,-1))\n",
    "       "
   ]
  },
  {
   "cell_type": "code",
   "execution_count": 8,
   "metadata": {},
   "outputs": [
    {
     "data": {
      "text/plain": [
       "array([5.96420884e-212, 5.96430896e-212, 1.60870561e-211, ...,\n",
       "       0.00000000e+000, 0.00000000e+000, 0.00000000e+000])"
      ]
     },
     "execution_count": 8,
     "metadata": {},
     "output_type": "execute_result"
    }
   ],
   "source": [
    "outdict[\"height_map\"].shape"
   ]
  },
  {
   "cell_type": "code",
   "execution_count": 10,
   "metadata": {},
   "outputs": [
    {
     "name": "stdout",
     "output_type": "stream",
     "text": [
      "<class 'bitarray.bitarray'>\n"
     ]
    }
   ],
   "source": [
    "from bitarray import bitarray\n",
    "\n",
    "# 비트 단위로 파일 작성\n",
    "bits = bitarray('1101010110110001')\n",
    "with open('output.bin', 'wb') as file:\n",
    "    bits.tofile(file)\n",
    "\n",
    "# 비트 단위로 파일 읽기\n",
    "read_bits = bitarray()\n",
    "with open(os.path.join(root_path, \"world/visibility_map.bin\"), 'rb') as file:\n",
    "    read_bits.fromfile(file)\n",
    "\n",
    "print(type(read_bits))\n",
    "\n",
    "\n",
    "arr = np.zeros(int(len(read_bits)/8), dtype=np.uint8)\n",
    "for i, bit in enumerate(read_bits):\n",
    "    arr[i//8] += bit << (i%8)\n",
    "    \n",
    "\n"
   ]
  },
  {
   "cell_type": "code",
   "execution_count": 11,
   "metadata": {},
   "outputs": [
    {
     "data": {
      "text/plain": [
       "128"
      ]
     },
     "execution_count": 11,
     "metadata": {},
     "output_type": "execute_result"
    }
   ],
   "source": [
    "np.max(arr)"
   ]
  },
  {
   "cell_type": "code",
   "execution_count": 2,
   "metadata": {},
   "outputs": [],
   "source": [
    "import os\n",
    "import json\n",
    "import numpy as np\n",
    "root_path = \"/mount/jyj/preprocessed/2019_WCS_Spring/307e3655dee84b0d93b14685baf68355/0.bin\"\n",
    "# open details.json\\\n",
    "\n",
    "def decode_to_numpy(byte_array:bytes, n_items:int, bits_per_elem, buffer_type:type=np.uint8()):\n",
    "    \"\"\"decode compact bit information to numpy array\n",
    "\n",
    "    Args:\n",
    "        byte_array (bytes): byte array to change\n",
    "        bits_per_elem (int): \n",
    "        n_items (int): number of items that decoded array has\n",
    "        buffer_type (type, optional): type of buffer, recommanded to be same with encode function. Defaults to np.uint8.\n",
    "\n",
    "    Returns:\n",
    "        _type_: 1 demensional numpy array\n",
    "    \"\"\"\n",
    "    if (bits_per_elem==1):\n",
    "        elem_type = bool\n",
    "        \n",
    "    elif(bits_per_elem==8):\n",
    "        elem_type = np.uint8\n",
    "    else:\n",
    "        assert False, \"only bool, np.uint8 available\"\n",
    "    bits_per_buffer = 8*buffer_type.itemsize\n",
    "    read_arr = np.frombuffer(byte_array, dtype=buffer_type)\n",
    "    decoded_arr = np.zeros(n_items, dtype=elem_type)\n",
    "    #print(read_arr)\n",
    "    for idx in range(n_items):\n",
    "        decoded_arr[idx] = (read_arr[int(idx/(bits_per_buffer*bits_per_elem))] >> ((bits_per_buffer-1) - (idx%bits_per_buffer)))%(2**bits_per_elem)\n",
    "\n",
    "    \n",
    "    return decoded_arr\n",
    "\n",
    "\n",
    "\n",
    "class Decoder:\n",
    "    \"\"\"Decoder class\n",
    "    \"\"\"\n",
    "    def __init__(self, root_path):\n",
    "        \"\"\"__init__\n",
    "\n",
    "        Args:\n",
    "            root_path (str): path of a match\n",
    "        \"\"\"\n",
    "        # open detail json file and get detail\n",
    "        self.info_dict : dict\n",
    "        self.height_map = None\n",
    "        \n",
    "        with open(os.path.join(root_path, \"details.json\"), \"r\") as j:\n",
    "            self.info_dict = json.load(j)\n",
    "        \n",
    "\n",
    "    \n",
    "        \n",
    "    def decode_world(self, bin_arr):\n",
    "        \"\"\"decode world minimap feature\n",
    "\n",
    "        Args:\n",
    "            bin_arr (bytes): byte information of world feature\n",
    "\n",
    "        Returns:\n",
    "            nmupy.array: 128*128*8 array\n",
    "            index of last axis: [\"height_map\", \"visibility_map\", \"creep\", \"player_relative\", \"alerts\", \"pathable\", \"buildable\", \"camera\"]\n",
    "        \"\"\"\n",
    "        # 바꿀꺼면 바꾸셈\n",
    "        map_size = self.info_dict[\"world\"][\"size\"]\n",
    "        outarr = np.ones((map_size[0], map_size[1], 8), dtype=np.uint8)\n",
    "        bits_info = self.info_dict[\"world\"][\"bits_per_pixel\"]\n",
    "\n",
    "        \n",
    "        # decode height map if needed\n",
    "        if (self.height_map is None):\n",
    "            with open(self.info_dict[\"world\"][\"height_map\"], \"rb\") as f:   \n",
    "                 \n",
    "                self.height_map = decode_to_numpy(f.read(), map_size[0]*map_size[1], bits_info[\"height_map\"])  \n",
    "        outarr[:,:,0] = self.height_map.reshape((map_size[0], map_size[1]))\n",
    "        \n",
    "        # decode other informations\n",
    "        start_index = 0\n",
    "        for idx, key in enumerate(bits_info.keys()):\n",
    "            \n",
    "            if (key == \"height_map\"):\n",
    "                continue\n",
    "            end_index = start_index + map_size[0]*map_size[1]*bits_info[key]//8\n",
    "            \n",
    "            outarr[:,:,idx] = decode_to_numpy(bin_arr[start_index:end_index], map_size[0]*map_size[1], bits_info[key]).reshape(map_size)\n",
    "            start_index = end_index\n",
    "        return outarr\n",
    "    \n",
    "    def decode_vector(self, bin_arr):\n",
    "        \n",
    "        outarr= np.frombuffer(bin_arr[:28], dtype=np.int16)\n",
    "        upgrades = decode_to_numpy(bin_arr[28:], 320, 1)\n",
    "        return outarr, upgrades\n",
    "    \n",
    "    def decode_units(self, bin_arr):\n",
    "        outarr = np.frombuffer(bin_arr, dtype=np.int16)\n",
    "        return outarr\n",
    "    def decode(self, bin_dir):\n",
    "        \"\"\"decode encoded featrue binary file\n",
    "\n",
    "        Args:\n",
    "            bin_dir (str): path of the bin file\n",
    "\n",
    "        Returns:\n",
    "            dict: {\"world\": world, \"vector\": vector, \"upgrades\": upgrades, \"units\": units}\n",
    "            world: 128 * 128 * 8 nnumpy array (np.uint8)\n",
    "            vector: (14, ) numpy array (np.int16)\n",
    "            upgrades: (320, ) one hot encoded numpy array (bool)\n",
    "            units: (46, n_units) numpy array (np.int16)\n",
    "        \"\"\"\n",
    "        n_world_bits = 1\n",
    "        map_size = self.info_dict[\"world\"][\"size\"]\n",
    "        world_bits = 0\n",
    "        for i in self.info_dict[\"world\"][\"bits_per_pixel\"].keys():\n",
    "            if (i == \"height_map\"):\n",
    "                continue\n",
    "            world_bits += self.info_dict[\"world\"][\"bits_per_pixel\"][i]\n",
    "        \n",
    "        n_world_bits = (map_size[0] * map_size[1]*world_bits)\n",
    "        \n",
    "        n_vector_bits = 16 * 14 + 320 + n_world_bits\n",
    "        \n",
    "        with open(bin_dir, \"rb\") as b:\n",
    "            tot_arr = b.read()\n",
    "            world_flatten = self.decode_world(tot_arr[:n_world_bits//8])\n",
    "            vector, upgrades = self.decode_vector(tot_arr[n_world_bits//8:n_vector_bits//8])\n",
    "            units_flatten = self.decode_units(tot_arr[n_vector_bits//8:])\n",
    "        world = world_flatten.reshape((map_size[0], map_size[1], -1))\n",
    "        units = units_flatten.reshape((46, -1))\n",
    "        return {\"world\": world, \"vector\": vector, \"upgrades\": upgrades, \"units\": units}\n"
   ]
  },
  {
   "cell_type": "code",
   "execution_count": 3,
   "metadata": {},
   "outputs": [],
   "source": [
    "decoder = Decoder(\"/mount/jyj/preprocessed/2019_WCS_Spring/307e3655dee84b0d93b14685baf68355/player1\")\n",
    "a = decoder.decode(\"/mount/jyj/preprocessed/2019_WCS_Spring/307e3655dee84b0d93b14685baf68355/player1/01982.bin\")"
   ]
  },
  {
   "cell_type": "code",
   "execution_count": 4,
   "metadata": {},
   "outputs": [
    {
     "name": "stdout",
     "output_type": "stream",
     "text": [
      "[0, 2, 5, 6, 7]\n"
     ]
    }
   ],
   "source": [
    "lst = [0]\n",
    "for i in range(8):\n",
    "    for row in a[\"world\"][:,:,i]:\n",
    "        for col in row:\n",
    "            if col != 0 and i != 0:\n",
    "                if (lst[-1] != i):\n",
    "                    lst.append(i)\n",
    "                    \n",
    "                    \n",
    "\n",
    "print(lst)"
   ]
  },
  {
   "cell_type": "code",
   "execution_count": 107,
   "metadata": {},
   "outputs": [],
   "source": [
    "import os\n",
    "path = \"/mount/jyj/replays/\"\n",
    "path_pre = \"/mount/jyj/preprocessed/\"\n",
    "for i in os.listdir(path):\n",
    "    for j in os.listdir(os.path.join(path, i)):\n",
    "        for k in range(2):\n",
    "            \n",
    "            os.makedirs(os.path.join(path_pre, i, j.split(\".\")[0], f\"player{k+1}\"), exist_ok=True)\n"
   ]
  },
  {
   "cell_type": "code",
   "execution_count": 1,
   "metadata": {},
   "outputs": [
    {
     "name": "stdout",
     "output_type": "stream",
     "text": [
      "325\n",
      "753\n",
      "4\n"
     ]
    }
   ],
   "source": [
    "import os\n",
    "command = \"python3 /root/code/mypysc2/bin/extract_state.py --replay /mount/jyj/replays/2019_WCS_Spring/307e3655dee84b0d93b14685baf68355.SC2Replay\"\n",
    "\n",
    "data_root_path = \"/mount/jyj/replays/2019_WCS_Spring\"\n",
    "out_root_path = \"/mount/jyj/preprocessed/2019_WCS_Spring/\"\n",
    "prog = []\n",
    "done = []\n",
    "yet = []\n",
    "for game in os.listdir(data_root_path):\n",
    "    \n",
    "    for i in (1, 2):\n",
    "        save_dir = game.split(\".\")[0] + f\"/player{i}\"\n",
    "        if (len(os.listdir(os.path.join(out_root_path, save_dir))) == 1):\n",
    "            #print(os.listdir(os.path.join(out_root_path, save_dir, f\"player{i}\")))\n",
    "            prog.append(save_dir)\n",
    "            \n",
    "        elif (len(os.listdir(os.path.join(out_root_path, save_dir))) > 1):\n",
    "            done.append(save_dir)\n",
    "        else:\n",
    "            yet.append(save_dir)\n",
    "\n",
    "\n",
    "print(len(prog))\n",
    "print(len(done))\n",
    "print(len(yet))"
   ]
  },
  {
   "cell_type": "code",
   "execution_count": 18,
   "metadata": {},
   "outputs": [
    {
     "name": "stdout",
     "output_type": "stream",
     "text": [
      "461399\n",
      "0\n"
     ]
    }
   ],
   "source": [
    "with open(\"/mount/jyj/preprocessed/2019_WCS_Spring/307e3655dee84b0d93b14685baf68355/player1/0001.bin\", \"rb\") as f:\n",
    "    a = f.read()\n",
    "    print(len(a))\n",
    "    n = 0\n",
    "    print(a[460938])\n",
    "            "
   ]
  },
  {
   "cell_type": "code",
   "execution_count": 24,
   "metadata": {},
   "outputs": [
    {
     "data": {
      "text/plain": [
       "459.296"
      ]
     },
     "execution_count": 24,
     "metadata": {},
     "output_type": "execute_result"
    }
   ],
   "source": [
    "(128*128*28+14*16+320)/10**3\n"
   ]
  },
  {
   "cell_type": "code",
   "execution_count": 117,
   "metadata": {},
   "outputs": [
    {
     "name": "stdout",
     "output_type": "stream",
     "text": [
      "7.515561819076538\n",
      "0.02631855010986328\n"
     ]
    }
   ],
   "source": [
    "from time import time\n",
    "\n",
    "t0 = time()\n",
    "for i in range(100000):\n",
    "    a = 2**i\n",
    "print(time() - t0)\n",
    "t1 = time()\n",
    "for j in range(100000):\n",
    "    a = 1 << i\n",
    "print(time() - t1)"
   ]
  },
  {
   "cell_type": "code",
   "execution_count": 4,
   "metadata": {},
   "outputs": [
    {
     "name": "stderr",
     "output_type": "stream",
     "text": [
      "100%|██████████| 540/540 [00:35<00:00, 15.29it/s]"
     ]
    },
    {
     "name": "stdout",
     "output_type": "stream",
     "text": [
      "Port Aleksander LE 76\n"
     ]
    },
    {
     "name": "stderr",
     "output_type": "stream",
     "text": [
      "\n"
     ]
    }
   ],
   "source": [
    "import os\n",
    "import json\n",
    "from tqdm import tqdm\n",
    "root_path = \"/mount/jyj/unpacked/2019_WCS_Spring/2019_WCS_Spring_data\"\n",
    "outdict = {}\n",
    "for match in tqdm(os.listdir(root_path)):\n",
    "    with open(os.path.join(root_path, match), \"r\") as j:\n",
    "        json_dict = json.load(j)\n",
    "        for user in json_dict[\"ToonPlayerDescMap\"].keys():\n",
    "            if (json_dict[\"ToonPlayerDescMap\"][user][\"race\"] != \"Prot\"):\n",
    "                continue\n",
    "            try:\n",
    "                outdict[json_dict[\"metadata\"][\"mapName\"]].append(match.split(\".\")[0])\n",
    "            except:\n",
    "                outdict[json_dict[\"metadata\"][\"mapName\"]] = [match.split(\".\")[0]]\n",
    "            \n",
    "    \n",
    "max_map = \"\"\n",
    "max_matches = 0    \n",
    "for map_name in outdict.keys():\n",
    "    if len(outdict[map_name]) > max_matches:\n",
    "        max_map = map_name\n",
    "        max_matches = len(outdict[map_name])\n",
    "        \n",
    "print(max_map, max_matches)"
   ]
  },
  {
   "cell_type": "code",
   "execution_count": 2,
   "metadata": {},
   "outputs": [
    {
     "name": "stdout",
     "output_type": "stream",
     "text": [
      "{}\n"
     ]
    }
   ],
   "source": [
    "print(outdict)"
   ]
  },
  {
   "cell_type": "code",
   "execution_count": 75,
   "metadata": {},
   "outputs": [],
   "source": [
    "import os\n",
    "import json\n",
    "root_path = \"/mount/jyj/preprocessed/2019_WCS_Spring/\"\n",
    "\n",
    "def get_matchIDs(base_path, race = (\"Protoss\", \"Protoss\"), map = -1):\n",
    "    \"\"\"get matchIDs support the following race and map condition\n",
    "\n",
    "    Args:\n",
    "        base_path (str): path of the competition\n",
    "        race (tuple or -1, optional): 2 element tuple, each corresponds to race of p1, p2. \n",
    "                                If element is -1, every race is available Defaults to (\"Protoss\", \"Protoss\").\n",
    "                                e.g. -1: returns every match id (not tuple this case)\n",
    "                                     (*, -1): Don't care player2's race\n",
    "        map (str or -1, optional): _description_. Defaults to -1.\n",
    "    \"\"\"\n",
    "    outlist = []\n",
    "    \n",
    "    for matchID in os.listdir(base_path):\n",
    "        p1_flag = 0\n",
    "        p2_flag = 0\n",
    "        # get all matches\n",
    "        if (race == -1 and map == -1):\n",
    "            outlist.append(matchID)\n",
    "            continue\n",
    "        # get meta.json if exist\n",
    "        try:\n",
    "            \n",
    "            with open(os.path.join(base_path, matchID, \"player1/state/meta.json\"), \"r\") as j: # player1/meta.json also has player2 information\n",
    "                meta = json.load(j)\n",
    "                \n",
    "        except:\n",
    "            continue\n",
    "        \n",
    "        # check if map is valid\n",
    "        if (map != -1 and meta[\"mapName\"] != map):\n",
    "            continue\n",
    "        \n",
    "        \n",
    "        # get all matches if map is same\n",
    "        if (race == -1):\n",
    "            outlist.append(matchID)\n",
    "            continue\n",
    "        \n",
    "        for player_info in meta[\"playerInfo\"]: # for each player check the race\n",
    "            \n",
    "            player_id = int(player_info[\"playerInfo\"][\"playerId\"])\n",
    "            \n",
    "            if (player_id == 1 and (race[0] == -1 or race[0] == player_info[\"playerInfo\"][\"raceActual\"])):\n",
    "                p1_flag = 1\n",
    "            elif (player_id == 2 and (race[1] == -1 or race[1] == player_info[\"playerInfo\"][\"raceActual\"])):\n",
    "                p2_flag = 1\n",
    "            \n",
    "            elif (player_id not in (1, 2)):\n",
    "                assert False, f\"PlayerID error: {player_id}\"\n",
    "        if (p1_flag and p2_flag): # if races satisfy the condition\n",
    "            outlist.append(matchID)\n",
    "        \n",
    "    return outlist\n",
    "    "
   ]
  },
  {
   "cell_type": "code",
   "execution_count": 76,
   "metadata": {},
   "outputs": [
    {
     "name": "stdout",
     "output_type": "stream",
     "text": [
      "['2498dfe6db7f4458b30f62b8c79beca3', '33c547f3eb6c4a6cb3f3c42fc8033821', '278b977530d444108cde0d3cec547f7b', '42245d2a223c4b42ba5fd5f6c11a4b39', '618495a1e10341a8b0731025f1a33ca1', '55a264fd2e164c58842383908c861d7d', '13f7d01643fa4a1ca1235d1a758e065d', '527a7c838d15417782b43c2178954b0a', '7629481c3d624b15b296f646dae67af6', '1c37349530cc44d398f10b56182f64fd', '2e6139ca3ed74294ba8f26e4ceb56bba', '6a4108891059421ba15cb3bfe3c9fb6f', '0a0db23531e2472e9fdb44fed14dd3a4', '2125ad5541e84eeb855a89f8fef8b355', '104cd9a23ffb4ed59469faf67b756921', '6fe1b2a4b15644ccbd9f4d57178a5aaf', '126d0c44bd384b76a9aee8e26f4d9a47', '0ec0c1b09b1344b2ab54cd0e453be260', '4cc8569ef6bb45b1b2dedeea7aedcce7', '687d148b448c403c8b2801ec7cff87b8', '363c24ffe1a9459ba8520ea52dfb29a3', '17b7353563ba466480bc32207286154b', '3b8d792efd2c4371b1e2237fc0411313', '49370b6d937b44058d04e5157f172317', '0613d343aa784b44a9054b027467b02b', '3ed889b93e4c42118bbad08768b2337b', '0186850fd6c64782b23fcc7805cbf3ce']\n"
     ]
    }
   ],
   "source": [
    "wanted = get_matchIDs(root_path, race = (\"Zerg\", \"Terran\"), map = -1)\n",
    "#wanted = get_matchIDs(root_path, race = (-1), map = -1)\n",
    "print(wanted)"
   ]
  },
  {
   "cell_type": "code",
   "execution_count": null,
   "metadata": {},
   "outputs": [],
   "source": []
  },
  {
   "cell_type": "code",
   "execution_count": 2,
   "metadata": {},
   "outputs": [
    {
     "name": "stderr",
     "output_type": "stream",
     "text": [
      "cp: cannot stat '/mount/StarCraftII/.build.info/Versions/Base.build.info': Not a directory\n",
      "cp: cannot stat '/mount/StarCraftII/59587/Versions/Base59587': No such file or directory\n"
     ]
    }
   ],
   "source": [
    "import os\n",
    "base_dir = \"/mount/StarCraftII/\"\n",
    "\n",
    "for i in os.listdir(base_dir):\n",
    "    if (i==\"Versions\"):\n",
    "        continue\n",
    "    dir2move = os.path.join(base_dir, i, \"Versions\", f\"Base{i}\")\n",
    "    os.system(f\"cp -r {dir2move} /root/StarCraftII/Versions\")\n",
    "    "
   ]
  },
  {
   "cell_type": "code",
   "execution_count": null,
   "metadata": {},
   "outputs": [],
   "source": []
  }
 ],
 "metadata": {
  "kernelspec": {
   "display_name": "Python 3",
   "language": "python",
   "name": "python3"
  },
  "language_info": {
   "codemirror_mode": {
    "name": "ipython",
    "version": 3
   },
   "file_extension": ".py",
   "mimetype": "text/x-python",
   "name": "python",
   "nbconvert_exporter": "python",
   "pygments_lexer": "ipython3",
   "version": "3.10.12"
  }
 },
 "nbformat": 4,
 "nbformat_minor": 2
}
